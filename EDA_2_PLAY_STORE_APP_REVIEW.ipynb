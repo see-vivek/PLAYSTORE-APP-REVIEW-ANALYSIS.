{
  "nbformat": 4,
  "nbformat_minor": 0,
  "metadata": {
    "colab": {
      "private_outputs": true,
      "provenance": [],
      "collapsed_sections": [
        "gIfDvo9L0UH2"
      ]
    },
    "kernelspec": {
      "name": "python3",
      "display_name": "Python 3"
    },
    "language_info": {
      "name": "python"
    }
  },
  "cells": [
    {
      "cell_type": "markdown",
      "source": [
        "# **Project Name**    -PLAYSTORE APP REVIEW ANALYSIS.\n",
        "\n"
      ],
      "metadata": {
        "id": "vncDsAP0Gaoa"
      }
    },
    {
      "cell_type": "markdown",
      "source": [
        "##### **Project Type**    - EDA\n",
        "##### **Contribution**    - Individual"
      ],
      "metadata": {
        "id": "beRrZCGUAJYm"
      }
    },
    {
      "cell_type": "markdown",
      "source": [
        "# **Project Summary -**"
      ],
      "metadata": {
        "id": "FJNUwmbgGyua"
      }
    },
    {
      "cell_type": "markdown",
      "source": [
        "The play store data has enormous potential to drive app making bussiness to success. Actionable insights can be drawn for developers to work on and capture the android market. Each row in this project has values for category, rating,size and much more. In this project data has been analysed to discover key factors responsible for app engagment and success."
      ],
      "metadata": {
        "id": "F6v_1wHtG2nS"
      }
    },
    {
      "cell_type": "markdown",
      "source": [
        "# **GitHub Link -**"
      ],
      "metadata": {
        "id": "w6K7xa23Elo4"
      }
    },
    {
      "cell_type": "markdown",
      "source": [
        "https://github.com/see-vivek/PLAYSTORE-APP-REVIEW-ANALYSIS."
      ],
      "metadata": {
        "id": "h1o69JH3Eqqn"
      }
    },
    {
      "cell_type": "markdown",
      "source": [
        "# **Problem Statement**\n"
      ],
      "metadata": {
        "id": "yQaldy8SH6Dl"
      }
    },
    {
      "cell_type": "markdown",
      "source": [
        "To analyse the given data(Play Store App review Analysis) and to determine the various parameters which drive App development to there success.\n",
        "\n",
        "To determine the public sentiments weather which kind of app is making place in there heart and why?"
      ],
      "metadata": {
        "id": "DpeJGUA3kjGy"
      }
    },
    {
      "cell_type": "markdown",
      "source": [
        "#### **Define Your Business Objective?**"
      ],
      "metadata": {
        "id": "PH-0ReGfmX4f"
      }
    },
    {
      "cell_type": "markdown",
      "source": [
        "Our EDA on play store app will help developers to know the sentiments of end user as a result of which appropriate decession by the developer  can be taken to motivate the user to use there developed app only."
      ],
      "metadata": {
        "id": "PhDvGCAqmjP1"
      }
    },
    {
      "cell_type": "markdown",
      "source": [
        "# **General Guidelines** : -  "
      ],
      "metadata": {
        "id": "mDgbUHAGgjLW"
      }
    },
    {
      "cell_type": "markdown",
      "source": [
        "1.   Well-structured, formatted, and commented code is required.\n",
        "2.   Exception Handling, Production Grade Code & Deployment Ready Code will be a plus. Those students will be awarded some additional credits.\n",
        "     \n",
        "     The additional credits will have advantages over other students during Star Student selection.\n",
        "       \n",
        "             [ Note: - Deployment Ready Code is defined as, the whole .ipynb notebook should be executable in one go\n",
        "                       without a single error logged. ]\n",
        "\n",
        "3.   Each and every logic should have proper comments.\n",
        "4. You may add as many number of charts you want. Make Sure for each and every chart the following format should be answered.\n",
        "        \n",
        "\n",
        "```\n",
        "# Chart visualization code\n",
        "```\n",
        "            \n",
        "\n",
        "*   Why did you pick the specific chart?\n",
        "*   What is/are the insight(s) found from the chart?\n",
        "* Will the gained insights help creating a positive business impact?\n",
        "Are there any insights that lead to negative growth? Justify with specific reason.\n",
        "\n",
        "5. You have to create at least 20 logical & meaningful charts having important insights.\n",
        "\n",
        "\n",
        "[ Hints : - Do the Vizualization in  a structured way while following \"UBM\" Rule.\n",
        "\n",
        "U - Univariate Analysis,\n",
        "\n",
        "B - Bivariate Analysis (Numerical - Categorical, Numerical - Numerical, Categorical - Categorical)\n",
        "\n",
        "M - Multivariate Analysis\n",
        " ]\n",
        "\n",
        "\n",
        "\n"
      ],
      "metadata": {
        "id": "ZrxVaUj-hHfC"
      }
    },
    {
      "cell_type": "markdown",
      "source": [
        "# ***Let's Begin !***"
      ],
      "metadata": {
        "id": "O_i_v8NEhb9l"
      }
    },
    {
      "cell_type": "markdown",
      "source": [
        "## ***1. Know Your Data***"
      ],
      "metadata": {
        "id": "HhfV-JJviCcP"
      }
    },
    {
      "cell_type": "markdown",
      "source": [
        "### Import Libraries"
      ],
      "metadata": {
        "id": "Y3lxredqlCYt"
      }
    },
    {
      "cell_type": "code",
      "source": [
        "import numpy as np\n",
        "import pandas as pd"
      ],
      "metadata": {
        "id": "M8Vqi-pPk-HR"
      },
      "execution_count": null,
      "outputs": []
    },
    {
      "cell_type": "markdown",
      "source": [
        "### Dataset Loading"
      ],
      "metadata": {
        "id": "3RnN4peoiCZX"
      }
    },
    {
      "cell_type": "code",
      "source": [
        "from google.colab import  drive\n",
        "drive.mount('/content/drive')"
      ],
      "metadata": {
        "id": "4CkvbW_SlZ_R"
      },
      "execution_count": null,
      "outputs": []
    },
    {
      "cell_type": "markdown",
      "source": [
        "### Dataset First View"
      ],
      "metadata": {
        "id": "x71ZqKXriCWQ"
      }
    },
    {
      "cell_type": "code",
      "source": [
        "ps_ar = pd.read_csv('/content/drive/MyDrive/almabetter programin asignment/EDA-2- PLAY STORE APP REVIEW ANALYSIS/Play Store Data.csv')"
      ],
      "metadata": {
        "id": "LWNFOSvLl09H"
      },
      "execution_count": null,
      "outputs": []
    },
    {
      "cell_type": "code",
      "source": [
        "ps_ar"
      ],
      "metadata": {
        "id": "r7PfAZjVg04m"
      },
      "execution_count": null,
      "outputs": []
    },
    {
      "cell_type": "markdown",
      "source": [
        "### Dataset Rows & Columns count"
      ],
      "metadata": {
        "id": "7hBIi_osiCS2"
      }
    },
    {
      "cell_type": "code",
      "source": [
        "# Dataset Rows & Columns count\n",
        "ps_ar.shape"
      ],
      "metadata": {
        "id": "Kllu7SJgmLij"
      },
      "execution_count": null,
      "outputs": []
    },
    {
      "cell_type": "markdown",
      "source": [
        "### Dataset Information"
      ],
      "metadata": {
        "id": "JlHwYmJAmNHm"
      }
    },
    {
      "cell_type": "code",
      "source": [
        "# Dataset Info\n",
        "ps_ar.info()"
      ],
      "metadata": {
        "id": "e9hRXRi6meOf"
      },
      "execution_count": null,
      "outputs": []
    },
    {
      "cell_type": "markdown",
      "source": [
        "#### Duplicate Values"
      ],
      "metadata": {
        "id": "35m5QtbWiB9F"
      }
    },
    {
      "cell_type": "code",
      "source": [
        "# Dataset Duplicate Value Count\n",
        "ps_ar.drop_duplicates(inplace=True)\n",
        "ps_ar.shape\n",
        "# there were (10841-10358)= 483 duplicate rows and zero duplicate columns, duplicate rows are droped.\n"
      ],
      "metadata": {
        "id": "1sLdpKYkmox0"
      },
      "execution_count": null,
      "outputs": []
    },
    {
      "cell_type": "markdown",
      "source": [
        "#### Missing Values/Null Values"
      ],
      "metadata": {
        "id": "PoPl-ycgm1ru"
      }
    },
    {
      "cell_type": "code",
      "source": [
        "# Missing Values/Null Values Count\n",
        "ps_ar.isna().sum()"
      ],
      "metadata": {
        "id": "GgHWkxvamxVg"
      },
      "execution_count": null,
      "outputs": []
    },
    {
      "cell_type": "code",
      "source": [
        "# Visualizing the missing values\n",
        "ps_ar.info()##-- there are 1465 null values in rating column, 1 null in type and content rating column, 8 null in current verson, 3 in android verson"
      ],
      "metadata": {
        "id": "3q5wnI3om9sJ"
      },
      "execution_count": null,
      "outputs": []
    },
    {
      "cell_type": "markdown",
      "source": [
        "### What did you know about your dataset?"
      ],
      "metadata": {
        "id": "H0kj-8xxnORC"
      }
    },
    {
      "cell_type": "markdown",
      "source": [
        "There are total 10358 rows and 13 columns in my dataset(no-duplicate column or rows) out of which there are 1465 null values in rating column, 1 null value in type and content rating column, 8 nullvalue in current verson, 3 in android verson, Price column has all values 0."
      ],
      "metadata": {
        "id": "gfoNAAC-nUe_"
      }
    },
    {
      "cell_type": "markdown",
      "source": [
        "## ***2. Understanding Your Variables***"
      ],
      "metadata": {
        "id": "nA9Y7ga8ng1Z"
      }
    },
    {
      "cell_type": "code",
      "source": [
        "# Dataset Columns\n",
        "ps_ar.columns##-- total column names are visisble here"
      ],
      "metadata": {
        "id": "j7xfkqrt5Ag5"
      },
      "execution_count": null,
      "outputs": []
    },
    {
      "cell_type": "code",
      "source": [
        "# Dataset Describe\n",
        "ps_ar.describe()#--here we are trying to find the statistical data from data set"
      ],
      "metadata": {
        "id": "DnOaZdaE5Q5t"
      },
      "execution_count": null,
      "outputs": []
    },
    {
      "cell_type": "markdown",
      "source": [
        "### Variables Description"
      ],
      "metadata": {
        "id": "PBTbrJXOngz2"
      }
    },
    {
      "cell_type": "markdown",
      "source": [
        "App- application name\n",
        "\n",
        "Category- Category of application\n",
        "\n",
        "Rating- star rating given by users\n",
        "\n",
        "Reviews - users review\n",
        "\n",
        "Size- application size\n",
        "\n",
        "Installs- number of user who have installedd the app world wide\n",
        "\n",
        "Type- Type of application\n",
        "\n",
        "Price- paid/ free, if paid then how much price to pay\n",
        "\n",
        "Content Rating- content quality rating\n",
        "\n",
        "Genres- Type of genere\n",
        "\n",
        "Last Updated\n",
        "\n",
        "Current Ver- current version\n",
        "\n",
        "Android Ver- Android version"
      ],
      "metadata": {
        "id": "aJV4KIxSnxay"
      }
    },
    {
      "cell_type": "markdown",
      "source": [
        "### Check Unique Values for each variable."
      ],
      "metadata": {
        "id": "u3PMJOP6ngxN"
      }
    },
    {
      "cell_type": "code",
      "source": [
        "ps_ar.Genres.unique()"
      ],
      "metadata": {
        "id": "kKLbexWMxbI4"
      },
      "execution_count": null,
      "outputs": []
    },
    {
      "cell_type": "markdown",
      "source": [
        "## 3. ***Data Wrangling***"
      ],
      "metadata": {
        "id": "dauF4eBmngu3"
      }
    },
    {
      "cell_type": "markdown",
      "source": [
        "### Data Wrangling Code"
      ],
      "metadata": {
        "id": "bKJF3rekwFvQ"
      }
    },
    {
      "cell_type": "code",
      "source": [
        "# Write your code to make your dataset analysis ready.\n",
        "ps_ar.replace('0',np.nan,inplace = True)\n",
        "#droping type and price column as in price column every value is nan and type column has free written.\n",
        "ps_ar.drop(['Price','Type'],axis=1, inplace=True)\n",
        "ps_ar\n",
        "\n",
        "\n"
      ],
      "metadata": {
        "id": "wk-9a2fpoLcV"
      },
      "execution_count": null,
      "outputs": []
    },
    {
      "cell_type": "code",
      "source": [
        "#converting the datatypes of ratings from object to float.\n",
        "ps_ar[['Rating']]= ps_ar[['Rating']].astype(float)\n",
        "ps_ar[['Reviews']]=ps_ar[['Reviews']].astype(float)\n",
        "\n",
        "\n",
        "\n"
      ],
      "metadata": {
        "id": "L0-zgGZW_8WD"
      },
      "execution_count": null,
      "outputs": []
    },
    {
      "cell_type": "code",
      "source": [
        "#imputing nan values with mean value in Rating column as it has 1474 nan values.\n",
        "ps_ar['Rating'].fillna(ps_ar['Rating'].astype(float).mean(), inplace=True)"
      ],
      "metadata": {
        "id": "yhkmMTdnCwFZ"
      },
      "execution_count": null,
      "outputs": []
    },
    {
      "cell_type": "code",
      "source": [
        "#imputing 'Varies with device' with nan values.\n",
        "ps_ar.replace('Varies with device',np.nan,inplace = True)\n",
        "\n"
      ],
      "metadata": {
        "id": "yVA3uxkhD17c"
      },
      "execution_count": null,
      "outputs": []
    },
    {
      "cell_type": "code",
      "source": [
        "#droping nan values in the column Current version and Android verson as values of nan can not be imputed with mean, median or mode also only 8 and 3 nan are there.\n",
        "ps_ar.dropna(subset=['Current Ver','Android Ver'], axis=0, inplace=True)\n"
      ],
      "metadata": {
        "id": "ogNXS_oqFaui"
      },
      "execution_count": null,
      "outputs": []
    },
    {
      "cell_type": "code",
      "source": [
        "ps_ar.shape"
      ],
      "metadata": {
        "id": "Rhy9sYNVEs8w"
      },
      "execution_count": null,
      "outputs": []
    },
    {
      "cell_type": "code",
      "source": [
        "ps_ar.info()"
      ],
      "metadata": {
        "id": "GqCmFnwtUt2Z"
      },
      "execution_count": null,
      "outputs": []
    },
    {
      "cell_type": "code",
      "source": [
        "#Finding outliers using box plot for rating.\n",
        "import matplotlib.pyplot as plt\n",
        "import seaborn as sns\n",
        "sns.boxplot(x='Rating', data=ps_ar)\n",
        "\n",
        "plt.show()\n"
      ],
      "metadata": {
        "id": "BdQdNOcF5Ln2"
      },
      "execution_count": null,
      "outputs": []
    },
    {
      "cell_type": "markdown",
      "source": [
        "### What all manipulations have you done and insights you found?"
      ],
      "metadata": {
        "id": "MSa1f5Uengrz"
      }
    },
    {
      "cell_type": "markdown",
      "source": [
        "**Manipulations-**\n",
        "   \n",
        "- In price column all values were 0, so filled this zero value with nan,\n",
        "  and droped it, however direct droping of price column can also be done without replacing the zero with nan.\n",
        "\n",
        "- converted the datatype of Rating from object to float, because its a\n",
        "  number.\n",
        "\n",
        "- converted the datatype of Reviews and Installs by using pd.to_numeric as there values consistes of numerical and string both.\n",
        "\n",
        "- imputed the nan values in rating column with mean values as there         were 1474 nan values and we can not drop such a huge number as on droping it may hamper our analysis. so nan values were imputed by mean values.\n",
        "\n",
        "- In column android verson and Current version 'Varies with device' was replaced by nan values and later on it was droped as only 8 and 3 were such cases on droping them it will not hamper our analysis.\n",
        "\n",
        "**Insights found**-\n",
        "\n",
        "- Now our dataframe is ready to be analysed on various parameters and in various ways.\n",
        "\n",
        "- proper insights will be available after analysing the data and will be written in conclusion part.\n",
        "- Determined the outliers, so that if any unwanted data is there it can be discarded while taking decession.\n"
      ],
      "metadata": {
        "id": "LbyXE7I1olp8"
      }
    },
    {
      "cell_type": "markdown",
      "source": [
        "## ***4. Data Vizualization, Storytelling & Experimenting with charts : Understand the relationships between variables***"
      ],
      "metadata": {
        "id": "GF8Ens_Soomf"
      }
    },
    {
      "cell_type": "markdown",
      "source": [
        "#### Chart - 1"
      ],
      "metadata": {
        "id": "0wOQAZs5pc--"
      }
    },
    {
      "cell_type": "code",
      "source": [
        "# Chart - 1 visualization code\n",
        "#Histogram of Category of apps\n",
        "import matplotlib.pyplot as plt\n",
        "import seaborn as sns\n",
        "plt.hist(ps_ar['Category'], bins=20)\n",
        "plt.xlabel('Category')\n",
        "plt.xticks(rotation = 90)\n",
        "plt.ylabel('Frequency')\n",
        "plt.title('Category wise app analysis')\n",
        "plt.show()\n"
      ],
      "metadata": {
        "id": "7v_ESjsspbW7"
      },
      "execution_count": null,
      "outputs": []
    },
    {
      "cell_type": "markdown",
      "source": [
        "##### 1. Why did you pick the specific chart?"
      ],
      "metadata": {
        "id": "K5QZ13OEpz2H"
      }
    },
    {
      "cell_type": "markdown",
      "source": [
        "To know which Category of apps is most used,liked by end users.\n",
        "histogram is ploted for univariate analysis of numerical  discrete values."
      ],
      "metadata": {
        "id": "XESiWehPqBRc"
      }
    },
    {
      "cell_type": "markdown",
      "source": [
        "##### 2. What is/are the insight(s) found from the chart?"
      ],
      "metadata": {
        "id": "lQ7QKXXCp7Bj"
      }
    },
    {
      "cell_type": "markdown",
      "source": [
        "- top most used app by end users belongs to the category of - family app and gaming app.\n",
        "- least used app by end users belongs to the category of  - Parenting app and libraries_and_demo app.\n",
        "-average used app by end users belongs to the category of - tools and personalization."
      ],
      "metadata": {
        "id": "C_j1G7yiqdRP"
      }
    },
    {
      "cell_type": "markdown",
      "source": [
        "##### 3. Will the gained insights help creating a positive business impact?\n",
        "Are there any insights that lead to negative growth? Justify with specific reason."
      ],
      "metadata": {
        "id": "448CDAPjqfQr"
      }
    },
    {
      "cell_type": "markdown",
      "source": [
        "yes, from the insights we  get a clear idea in which category we have more scope of doing business, for example if we launch a gaming app it probability of getting successfull is more compare launching of other category app.\n",
        "\n",
        "For any insights that lead to negative growth further investigation is needed."
      ],
      "metadata": {
        "id": "3cspy4FjqxJW"
      }
    },
    {
      "cell_type": "markdown",
      "source": [
        "#### Chart - 2"
      ],
      "metadata": {
        "id": "KSlN3yHqYklG"
      }
    },
    {
      "cell_type": "code",
      "source": [
        "# Chart - 2 visualization code\n",
        "#Bar graph for category and installs\n",
        "x= ps_ar.loc[:,'Category']\n",
        "y=ps_ar.loc[:,'Installs']\n",
        "plt.bar(x,y)\n",
        "plt.title('Category vs Installs')\n",
        "plt.xlabel('Category')\n",
        "plt.xticks(rotation =90)\n",
        "plt.ylabel('Installs')\n",
        "plt.show()\n"
      ],
      "metadata": {
        "id": "R4YgtaqtYklH"
      },
      "execution_count": null,
      "outputs": []
    },
    {
      "cell_type": "markdown",
      "source": [
        "##### 1. Why did you pick the specific chart?"
      ],
      "metadata": {
        "id": "t6dVpIINYklI"
      }
    },
    {
      "cell_type": "markdown",
      "source": [
        "For doing bi-variate analysis, between  category of apps and installs.\n",
        "Bar plot helps in bi-variate analysis thats why it is used.\n",
        "From here we get insights that which category has how much downloads.\n"
      ],
      "metadata": {
        "id": "5aaW0BYyYklI"
      }
    },
    {
      "cell_type": "markdown",
      "source": [
        "##### 2. What is/are the insight(s) found from the chart?"
      ],
      "metadata": {
        "id": "ijmpgYnKYklI"
      }
    },
    {
      "cell_type": "markdown",
      "source": [
        "**-Insights**\n",
        "\n",
        "  -higest download is for- news and magazines, Personalization, productivity, travel and local,Family, medical, social, lifestyle, finanace,Business, art and design, all these are having more than 100m+ downloads.\n",
        "\n",
        "  -lowest app download is for entertainment.\n",
        "  \n",
        "  -shoping, photography and sports have equal amount of downloads and is greater than vedio players,weather and parenting apps."
      ],
      "metadata": {
        "id": "PSx9atu2YklI"
      }
    },
    {
      "cell_type": "markdown",
      "source": [
        "##### 3. Will the gained insights help creating a positive business impact?\n",
        "Are there any insights that lead to negative growth? Justify with specific reason."
      ],
      "metadata": {
        "id": "-JiQyfWJYklI"
      }
    },
    {
      "cell_type": "markdown",
      "source": [
        "yes the gained insights will help creating a positive business impact\n",
        "\n",
        "no insights found which may lead to negative growth."
      ],
      "metadata": {
        "id": "BcBbebzrYklV"
      }
    },
    {
      "cell_type": "markdown",
      "source": [
        "#### Chart - 3"
      ],
      "metadata": {
        "id": "EM7whBJCYoAo"
      }
    },
    {
      "cell_type": "code",
      "source": [
        "# Chart - 3 visualization code\n",
        "#Bar graph for category and ratings.\n",
        "x=ps_ar.loc[:,'Category']\n",
        "y=ps_ar.loc[:,'Rating']\n",
        "plt.bar(x,y)\n",
        "plt.title('Category vs Rating')\n",
        "plt.xlabel('Category')\n",
        "plt.xticks(rotation =90)\n",
        "plt.ylabel('Rating')\n",
        "plt.show()"
      ],
      "metadata": {
        "id": "t6GMdE67YoAp"
      },
      "execution_count": null,
      "outputs": []
    },
    {
      "cell_type": "markdown",
      "source": [
        "##### 1. Why did you pick the specific chart?"
      ],
      "metadata": {
        "id": "fge-S5ZAYoAp"
      }
    },
    {
      "cell_type": "markdown",
      "source": [
        "For doing bi-variate analysis, between category of apps and ratings. Bar plot helps in bi-variate analysis thats why it is used. From here we get insights that which category of app has how much ratings."
      ],
      "metadata": {
        "id": "5dBItgRVYoAp"
      }
    },
    {
      "cell_type": "markdown",
      "source": [
        "##### 2. What is/are the insight(s) found from the chart?"
      ],
      "metadata": {
        "id": "85gYPyotYoAp"
      }
    },
    {
      "cell_type": "markdown",
      "source": [
        "Most of the apps have a rating of 5 only 8 apps have rating less than 5."
      ],
      "metadata": {
        "id": "4jstXR6OYoAp"
      }
    },
    {
      "cell_type": "markdown",
      "source": [
        "##### 3. Will the gained insights help creating a positive business impact?\n",
        "Are there any insights that lead to negative growth? Justify with specific reason."
      ],
      "metadata": {
        "id": "RoGjAbkUYoAp"
      }
    },
    {
      "cell_type": "markdown",
      "source": [
        "no such insights found."
      ],
      "metadata": {
        "id": "zfJ8IqMcYoAp"
      }
    },
    {
      "cell_type": "markdown",
      "source": [
        "#### Chart - 4"
      ],
      "metadata": {
        "id": "4Of9eVA-YrdM"
      }
    },
    {
      "cell_type": "code",
      "source": [
        "# Chart - 4 visualization code\n",
        "# scatter plot for reviews and rating\n",
        "x=ps_ar.loc[:,'Genres']\n",
        "y=ps_ar.loc[:,'Rating']\n",
        "plt.bar(x,y)\n",
        "plt.title('Genres vs Rating')\n",
        "plt.xlabel('Genres')\n",
        "plt.xticks(rotation =90)\n",
        "plt.ylabel('Rating')\n",
        "plt.show()\n",
        "\n",
        "\n",
        "\n",
        "\n"
      ],
      "metadata": {
        "id": "irlUoxc8YrdO"
      },
      "execution_count": null,
      "outputs": []
    },
    {
      "cell_type": "markdown",
      "source": [
        "##### 1. Why did you pick the specific chart?"
      ],
      "metadata": {
        "id": "iky9q4vBYrdO"
      }
    },
    {
      "cell_type": "markdown",
      "source": [
        "to know weather there is any relationship between geners and rating\n"
      ],
      "metadata": {
        "id": "aJRCwT6DYrdO"
      }
    },
    {
      "cell_type": "markdown",
      "source": [
        "##### 2. What is/are the insight(s) found from the chart?"
      ],
      "metadata": {
        "id": "F6T5p64dYrdO"
      }
    },
    {
      "cell_type": "markdown",
      "source": [
        "no significant fruitfull insights are obtained from the graph."
      ],
      "metadata": {
        "id": "Xx8WAJvtYrdO"
      }
    },
    {
      "cell_type": "markdown",
      "source": [
        "##### 3. Will the gained insights help creating a positive business impact?\n",
        "Are there any insights that lead to negative growth? Justify with specific reason."
      ],
      "metadata": {
        "id": "y-Ehk30pYrdP"
      }
    },
    {
      "cell_type": "markdown",
      "source": [
        "N/A"
      ],
      "metadata": {
        "id": "jLNxxz7MYrdP"
      }
    },
    {
      "cell_type": "markdown",
      "source": [
        "#### Chart - 5"
      ],
      "metadata": {
        "id": "bamQiAODYuh1"
      }
    },
    {
      "cell_type": "code",
      "source": [
        "# Chart - 5 visualization code\n",
        "#scatter  plot of content rating and rating\n",
        "plt.scatter(ps_ar['Rating'], ps_ar['Content Rating'])\n",
        "plt.xlabel('Rating')\n",
        "plt.ylabel('Content Rating')\n",
        "plt.title('content rating and rating')\n",
        "plt.show()"
      ],
      "metadata": {
        "id": "TIJwrbroYuh3"
      },
      "execution_count": null,
      "outputs": []
    },
    {
      "cell_type": "markdown",
      "source": [
        "##### 1. Why did you pick the specific chart?"
      ],
      "metadata": {
        "id": "QHF8YVU7Yuh3"
      }
    },
    {
      "cell_type": "markdown",
      "source": [
        "To do bi-variate analysis between content Rating and rating."
      ],
      "metadata": {
        "id": "dcxuIMRPYuh3"
      }
    },
    {
      "cell_type": "markdown",
      "source": [
        "##### 2. What is/are the insight(s) found from the chart?"
      ],
      "metadata": {
        "id": "GwzvFGzlYuh3"
      }
    },
    {
      "cell_type": "markdown",
      "source": [
        "**Insights-**\n",
        "\n",
        "Most of the end user have liked 10+ year age group content,mostely give an atleat avg rating more than 3.4.\n",
        "\n",
        "wide variation in rating is seen in those content which are made for every age group people\n",
        "\n",
        "a very few or least rating is seen for those contents which are 18+ or unrated content. it shows the least intrest of end users in those content.\n"
      ],
      "metadata": {
        "id": "uyqkiB8YYuh3"
      }
    },
    {
      "cell_type": "markdown",
      "source": [
        "##### 3. Will the gained insights help creating a positive business impact?\n",
        "Are there any insights that lead to negative growth? Justify with specific reason."
      ],
      "metadata": {
        "id": "qYpmQ266Yuh3"
      }
    },
    {
      "cell_type": "markdown",
      "source": [
        "while observing the rating which is having content 18+, it is concluded that peoples are showing least intrest in them so making such content is not advisible.\n",
        "\n",
        "The most liked content is the content which is made by keeping in mind for all age group.\n",
        "\n",
        "The gained insights from the above graph will create a positive impact on business.\n"
      ],
      "metadata": {
        "id": "_WtzZ_hCYuh4"
      }
    },
    {
      "cell_type": "markdown",
      "source": [
        "#### Chart - 6"
      ],
      "metadata": {
        "id": "n3dbpmDWp1ck"
      }
    },
    {
      "cell_type": "code",
      "source": [
        "# Chart -6 visualization code\n",
        "#bar plot between last updated and category\n",
        "f, ax = plt.subplots(figsize=(25,5))\n",
        "\n",
        "x=ps_ar.loc[:,'Last Updated']\n",
        "y=ps_ar.loc[:,'Category']\n",
        "plt.bar(x,y)\n",
        "plt.title('Category vs Last Updated')\n",
        "plt.xlabel('Last Updated')\n",
        "plt.xticks(rotation =90)\n",
        "plt.ylabel('Category')\n",
        "plt.show()\n",
        "\n",
        "# sns.swarmplot(data=ps_ar, x='Last Updated', y='Category')\n",
        "# plt.show()\n"
      ],
      "metadata": {
        "id": "bwevp1tKp1ck"
      },
      "execution_count": null,
      "outputs": []
    },
    {
      "cell_type": "markdown",
      "source": [
        "##### 1. Why did you pick the specific chart?"
      ],
      "metadata": {
        "id": "ylSl6qgtp1ck"
      }
    },
    {
      "cell_type": "markdown",
      "source": [
        "To do bi-variate analysis between last updated and category."
      ],
      "metadata": {
        "id": "m2xqNkiQp1ck"
      }
    },
    {
      "cell_type": "markdown",
      "source": [
        "##### 2. What is/are the insight(s) found from the chart?"
      ],
      "metadata": {
        "id": "ZWILFDl5p1ck"
      }
    },
    {
      "cell_type": "markdown",
      "source": [
        "Almost Dificult to find the insights as there is a huge data labels on x asix are not vissible properly eventhough on changing the size of graph."
      ],
      "metadata": {
        "id": "x-lUsV2mp1ck"
      }
    },
    {
      "cell_type": "markdown",
      "source": [
        "##### 3. Will the gained insights help creating a positive business impact?\n",
        "Are there any insights that lead to negative growth? Justify with specific reason."
      ],
      "metadata": {
        "id": "M7G43BXep1ck"
      }
    },
    {
      "cell_type": "markdown",
      "source": [
        "N/A"
      ],
      "metadata": {
        "id": "5wwDJXsLp1cl"
      }
    },
    {
      "cell_type": "markdown",
      "source": [
        " **Chart - 7**"
      ],
      "metadata": {
        "id": "Ag9LCva-p1cl"
      }
    },
    {
      "cell_type": "code",
      "source": [
        "# Chart - 7 visualization code\n",
        "#scatter plot of Genres and Installs\n",
        "plt.scatter(ps_ar['Genres'], ps_ar['Installs'])\n",
        "plt.xlabel('Genres')\n",
        "plt.xticks(rotation=90)\n",
        "plt.ylabel('Installs')\n",
        "plt.title('Genres vs Installs')\n",
        "plt.show()"
      ],
      "metadata": {
        "id": "EUfxeq9-p1cl"
      },
      "execution_count": null,
      "outputs": []
    },
    {
      "cell_type": "markdown",
      "source": [
        "##### 1. Why did you pick the specific chart?"
      ],
      "metadata": {
        "id": "E6MkPsBcp1cl"
      }
    },
    {
      "cell_type": "markdown",
      "source": [
        "To  do a bi-variate analysis of category and install using scatter plot."
      ],
      "metadata": {
        "id": "V22bRsFWp1cl"
      }
    },
    {
      "cell_type": "markdown",
      "source": [
        "##### 2. What is/are the insight(s) found from the chart?"
      ],
      "metadata": {
        "id": "2cELzS2fp1cl"
      }
    },
    {
      "cell_type": "markdown",
      "source": [
        "No significant relation between category and installs is seen from the plot.\n",
        "Plot is showing random distribution of dots."
      ],
      "metadata": {
        "id": "ozQPc2_Ip1cl"
      }
    },
    {
      "cell_type": "markdown",
      "source": [
        "##### 3. Will the gained insights help creating a positive business impact?\n",
        "Are there any insights that lead to negative growth? Justify with specific reason."
      ],
      "metadata": {
        "id": "3MPXvC8up1cl"
      }
    },
    {
      "cell_type": "markdown",
      "source": [
        "N/A"
      ],
      "metadata": {
        "id": "GL8l1tdLp1cl"
      }
    },
    {
      "cell_type": "markdown",
      "source": [
        "**Chart - 8**"
      ],
      "metadata": {
        "id": "2AUx9qv_IfSS"
      }
    },
    {
      "cell_type": "code",
      "source": [
        "# Chart - 8 visualization code\n",
        "# sns.histplot(x='Current Ver', data=ps_ar)\n",
        "# plt.xticks(rotation =90)\n",
        "                           #OR\n",
        "\n",
        "plt.hist(ps_ar['Current Ver'])\n",
        "plt.xlabel('Current Verson')\n",
        "plt.xticks(rotation = 90)\n",
        "plt.title('Current Verson analysis')\n",
        "plt.show()\n",
        "\n",
        "\n"
      ],
      "metadata": {
        "id": "ZFCn5PdYI0XB"
      },
      "execution_count": null,
      "outputs": []
    },
    {
      "cell_type": "markdown",
      "source": [
        "##### 1. Why did you pick the specific chart?"
      ],
      "metadata": {
        "id": "CME2MVaQIsqV"
      }
    },
    {
      "cell_type": "markdown",
      "source": [
        "To do a uni- veriate analysis of current version of apps.\n"
      ],
      "metadata": {
        "id": "Or16CatkO4Qz"
      }
    },
    {
      "cell_type": "markdown",
      "source": [
        "##### 2. What is/are the insight(s) found from the chart?"
      ],
      "metadata": {
        "id": "uwV4nBlzPRcx"
      }
    },
    {
      "cell_type": "markdown",
      "source": [
        "Most of the apps are having a version higher than 5.\n",
        "few apps versions are variying with device.\n",
        "very few apps are running on  a version of less than 3."
      ],
      "metadata": {
        "id": "kUKMDW3APXzP"
      }
    },
    {
      "cell_type": "markdown",
      "source": [
        "##### 3. Will the gained insights help creating a positive business impact?\n",
        "Are there any insights that lead to negative growth? Justify with specific reason."
      ],
      "metadata": {
        "id": "5TM0sayBRrcM"
      }
    },
    {
      "cell_type": "markdown",
      "source": [
        "Those apps which are having version less tha 4 must start giving frequent updates so that end users may get benifited and stay updated with time."
      ],
      "metadata": {
        "id": "Oz4-UZW8R94l"
      }
    },
    {
      "cell_type": "markdown",
      "source": [
        "**Chart - 9**"
      ],
      "metadata": {
        "id": "VCmsPEp6e3E6"
      }
    },
    {
      "cell_type": "code",
      "source": [
        "# Chart - 9 visualization code\n",
        "#scatter plot between Rating and reviews\n",
        "sns.scatterplot(data=ps_ar, x='Rating',y='Reviews')\n",
        "plt.title('Rating vs Review')\n",
        "plt.show()\n"
      ],
      "metadata": {
        "id": "uNHpScItfEq2"
      },
      "execution_count": null,
      "outputs": []
    },
    {
      "cell_type": "markdown",
      "source": [
        "##### 1. Why did you pick the specific chart?"
      ],
      "metadata": {
        "id": "hQSpWI73hKZa"
      }
    },
    {
      "cell_type": "markdown",
      "source": [
        "To see the trend between Rating and Review."
      ],
      "metadata": {
        "id": "4HGdYrdahS2j"
      }
    },
    {
      "cell_type": "markdown",
      "source": [
        "##### 2. What is/are the insight(s) found from the chart?"
      ],
      "metadata": {
        "id": "mlKQzxQ6hgcU"
      }
    },
    {
      "cell_type": "markdown",
      "source": [
        "Most of the reviews are clustred in the range of 3.8 to 4.8 ratings."
      ],
      "metadata": {
        "id": "6W4XkBjZhlPD"
      }
    },
    {
      "cell_type": "markdown",
      "source": [
        "##### 3. Will the gained insights help creating a positive business impact?\n",
        "Are there any insights that lead to negative growth? Justify with specific reason."
      ],
      "metadata": {
        "id": "y7vBbsu3ias6"
      }
    },
    {
      "cell_type": "markdown",
      "source": [
        "This analysis of rating and review does not provide any fruitfull insights which may lead negative or positive impact on business."
      ],
      "metadata": {
        "id": "1hGMmS5xioy7"
      }
    },
    {
      "cell_type": "markdown",
      "source": [
        "#### Chart - 10 - Correlation Heatmap"
      ],
      "metadata": {
        "id": "NC_X3p0fY2L0"
      }
    },
    {
      "cell_type": "code",
      "source": [
        "# Correlation Heatmap visualization code\n",
        "sns.heatmap(ps_ar[['Rating','Reviews']].corr(),cmap='vlag', annot = True)"
      ],
      "metadata": {
        "id": "xyC9zolEZNRQ"
      },
      "execution_count": null,
      "outputs": []
    },
    {
      "cell_type": "markdown",
      "source": [
        "##### 1. Why did you pick the specific chart?"
      ],
      "metadata": {
        "id": "UV0SzAkaZNRQ"
      }
    },
    {
      "cell_type": "markdown",
      "source": [
        "For multi variate analysis between rating and reviews, as not much fruitfull insights were obtained from scatter plot of rating and reviews."
      ],
      "metadata": {
        "id": "DVPuT8LYZNRQ"
      }
    },
    {
      "cell_type": "markdown",
      "source": [
        "##### 2. What is/are the insight(s) found from the chart?"
      ],
      "metadata": {
        "id": "YPEH6qLeZNRQ"
      }
    },
    {
      "cell_type": "markdown",
      "source": [
        "stronger and positive  corelation is seen between rating and reviews."
      ],
      "metadata": {
        "id": "bfSqtnDqZNRR"
      }
    },
    {
      "cell_type": "markdown",
      "source": [
        "#### Chart - 11 - Pair Plot"
      ],
      "metadata": {
        "id": "q29F0dvdveiT"
      }
    },
    {
      "cell_type": "code",
      "source": [
        "# Pair Plot visualization code\n",
        "sns.pairplot(data= ps_ar)"
      ],
      "metadata": {
        "id": "o58-TEIhveiU"
      },
      "execution_count": null,
      "outputs": []
    },
    {
      "cell_type": "markdown",
      "source": [
        "##### 1. Why did you pick the specific chart?"
      ],
      "metadata": {
        "id": "EXh0U9oCveiU"
      }
    },
    {
      "cell_type": "markdown",
      "source": [
        "For multi variate analysis."
      ],
      "metadata": {
        "id": "eMmPjTByveiU"
      }
    },
    {
      "cell_type": "markdown",
      "source": [
        "##### 2. What is/are the insight(s) found from the chart?"
      ],
      "metadata": {
        "id": "22aHeOlLveiV"
      }
    },
    {
      "cell_type": "markdown",
      "source": [
        "Rating are clustred is a specific range of 3.8 to 4.8.\n",
        "It means most of the users has provided a positive review and have given a good rating.\n",
        "\n",
        "Few users have given a rating of 5 and few have given below 2 average rating."
      ],
      "metadata": {
        "id": "uPQ8RGwHveiV"
      }
    },
    {
      "cell_type": "markdown",
      "source": [
        "## **5. Solution to Business Objective**"
      ],
      "metadata": {
        "id": "JcMwzZxoAimU"
      }
    },
    {
      "cell_type": "markdown",
      "source": [
        "#### What do you suggest the client to achieve Business Objective ?\n",
        "Explain Briefly."
      ],
      "metadata": {
        "id": "8G2x9gOozGDZ"
      }
    },
    {
      "cell_type": "markdown",
      "source": [
        " Following points are suggested to client to achive Business Objective:-\n",
        "\n",
        "- Frequent updates should be provided to the customes in this fast changing world.\n",
        "\n",
        "- Most of the end users are likeing  news and magazines, Personalization, productivity, travel and local,Family, medical, social, lifestyle, finanace,Business, art and design, types of application, so we must focus on these segments only.\n",
        "\n",
        "- Little scope of scaling up of user is observed in shoping, photography and sports segment of applications.\n",
        "\n",
        "- Conteneous engagment of customer and there feedback must be taken to improve the content quality of app to increase the end user engagment with the developed application.\n",
        "\n",
        "- Higher number of user's review shows positive sentiments of users for the perticular application."
      ],
      "metadata": {
        "id": "pASKb0qOza21"
      }
    },
    {
      "cell_type": "markdown",
      "source": [
        "# **Conclusion**"
      ],
      "metadata": {
        "id": "gCX9965dhzqZ"
      }
    },
    {
      "cell_type": "markdown",
      "source": [
        "In this project of analyzing Google Play Store applications, i have mostly focused on finding out the relationship between Rating and Installations number and what is the expected rating if number of reviews and installation is provided.\n",
        "\n",
        "I have  started  Data Science process which is Data Preparing, Data Cleansing and Data Analysis. In Data Cleansing, i have performed few steps to ensure the data quality such as removing NAN values. With the cleansed data, i have perform Exploratory Data Analysis to understand our dataset like number of installation for each category.\n",
        "\n",
        "From the results, we can know the relationships between Geners and installations is a very weak relation as close as no relations at all. We can say that the trends between Geners and Installations is not dependent to each other.\n",
        "\n",
        "From the results and process i have implemented, we can conclude that i have achieved this group project objectives which are analyzing the Google Play Store apps and determine trends of the Google Play Store and our focused questions."
      ],
      "metadata": {
        "id": "Fjb1IsQkh3yE"
      }
    },
    {
      "cell_type": "markdown",
      "source": [
        "### ***Hurrah! You have successfully completed your EDA Capstone Project !!!***"
      ],
      "metadata": {
        "id": "gIfDvo9L0UH2"
      }
    }
  ]
}